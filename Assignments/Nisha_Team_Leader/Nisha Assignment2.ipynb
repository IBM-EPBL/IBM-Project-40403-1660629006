{
 "cells": [
  {
   "cell_type": "code",
   "execution_count": null,
   "metadata": {
    "id": "73pth80KQ0Jh"
   },
   "outputs": [],
   "source": [
    "import numpy as np"
   ]
  },
  {
   "cell_type": "code",
   "execution_count": null,
   "metadata": {
    "id": "yLMyIkgPRahv"
   },
   "outputs": [],
   "source": [
    "import pandas as pd"
   ]
  },
  {
   "cell_type": "code",
   "execution_count": null,
   "metadata": {
    "id": "jo4FZJcGRw1R"
   },
   "outputs": [],
   "source": [
    "df=pd.read_csv(\"Churn_Modelling (2).csv\")"
   ]
  },
  {
   "cell_type": "code",
   "execution_count": null,
   "metadata": {
    "id": "uxk61ctnR6z-"
   },
   "outputs": [],
   "source": [
    "df"
   ]
  },
  {
   "cell_type": "markdown",
   "metadata": {
    "id": "kiPwG3pmT72p"
   },
   "source": [
    "Visualizations"
   ]
  },
  {
   "cell_type": "code",
   "execution_count": null,
   "metadata": {
    "id": "lyiBUVGNSAvW"
   },
   "outputs": [],
   "source": [
    "import matplotlib.pyplot as plt"
   ]
  },
  {
   "cell_type": "code",
   "execution_count": null,
   "metadata": {
    "id": "xA4xX_5ASPoS"
   },
   "outputs": [],
   "source": [
    "import seaborn as sns"
   ]
  },
  {
   "cell_type": "code",
   "execution_count": null,
   "metadata": {
    "id": "VBPXbR2rSW5G"
   },
   "outputs": [],
   "source": [
    "%matplotlib inline"
   ]
  },
  {
   "cell_type": "code",
   "execution_count": null,
   "metadata": {
    "id": "JJnLpdEUSdmY"
   },
   "outputs": [],
   "source": [
    "df[['RowNumber', 'CustomerId', 'Surname', 'CreditScore', 'Geography',\n",
    "       'Gender', 'Age', 'Tenure']].describe()"
   ]
  },
  {
   "cell_type": "markdown",
   "metadata": {
    "id": "mL7umSEdURHi"
   },
   "source": [
    "** [1]Univariate Analysis**"
   ]
  },
  {
   "cell_type": "code",
   "execution_count": null,
   "metadata": {
    "id": "Q-8-y7gwSlxV"
   },
   "outputs": [],
   "source": [
    "sns.histplot(df.Geography,kde=True)"
   ]
  },
  {
   "cell_type": "code",
   "execution_count": null,
   "metadata": {
    "id": "sX8vDFbISltX"
   },
   "outputs": [],
   "source": [
    "# plot count plot for the gender column"
   ]
  },
  {
   "cell_type": "code",
   "execution_count": null,
   "metadata": {
    "id": "g3xEAricSyED"
   },
   "outputs": [],
   "source": [
    "sns.countplot(df.Gender)"
   ]
  },
  {
   "cell_type": "markdown",
   "metadata": {
    "id": "0ECHQKMtUiRg"
   },
   "source": [
    "**[2]Bi - Variate** **Analysis**"
   ]
  },
  {
   "cell_type": "code",
   "execution_count": null,
   "metadata": {
    "id": "r52em1wYS3UM"
   },
   "outputs": [],
   "source": [
    "df[['RowNumber', 'CustomerId', 'Surname', 'CreditScore', 'Geography',\n",
    "       'Gender', 'Age', 'Tenure']].corr()"
   ]
  },
  {
   "cell_type": "code",
   "execution_count": null,
   "metadata": {
    "id": "gRjFaL2kS-UC"
   },
   "outputs": [],
   "source": [
    "sns.scatterplot(df.CreditScore,df.Age)\n",
    "plt.ylim(0,150)"
   ]
  },
  {
   "cell_type": "markdown",
   "metadata": {
    "id": "kaRJnzwvVSIK"
   },
   "source": [
    "**[3]Multi - Variate Analysis**"
   ]
  },
  {
   "cell_type": "code",
   "execution_count": null,
   "metadata": {
    "id": "lW66j89_TDO6"
   },
   "outputs": [],
   "source": [
    "sns.pairplot(data=df[['CustomerId', 'Surname', 'CreditScore', 'Geography','Gender', 'Age', 'Tenure']],hue='Tenure')"
   ]
  },
  {
   "cell_type": "markdown",
   "metadata": {
    "id": "lK3QqpVKVcbI"
   },
   "source": [
    "**[4] Descriptive statistics**"
   ]
  },
  {
   "cell_type": "code",
   "execution_count": null,
   "metadata": {
    "id": "Bk6BNe13TLdQ"
   },
   "outputs": [],
   "source": [
    "# summary statistics \n",
    "df.describe()"
   ]
  },
  {
   "cell_type": "code",
   "execution_count": null,
   "metadata": {
    "id": "gAgLmXmiTSwU"
   },
   "outputs": [],
   "source": [
    "df.dtypes"
   ]
  },
  {
   "cell_type": "code",
   "execution_count": null,
   "metadata": {
    "id": "d25iwR2DTYu0"
   },
   "outputs": [],
   "source": [
    "# mode\n",
    "df['Age'].mode()"
   ]
  },
  {
   "cell_type": "code",
   "execution_count": null,
   "metadata": {
    "id": "zVYhcE2ATd6D"
   },
   "outputs": [],
   "source": [
    "# calculation of the mean \n",
    "df[\"Age\"].mean()"
   ]
  },
  {
   "cell_type": "code",
   "execution_count": null,
   "metadata": {
    "id": "d9fcdGGxTiV_"
   },
   "outputs": [],
   "source": [
    "# calculation of the mean and round the result\n",
    "round(df[\"Age\"].mean(), 3)"
   ]
  },
  {
   "cell_type": "code",
   "execution_count": null,
   "metadata": {
    "id": "TwCj59P1Topm"
   },
   "outputs": [],
   "source": [
    "# calculation of the median \n",
    "df[\"Age\"].median()"
   ]
  },
  {
   "cell_type": "markdown",
   "metadata": {
    "id": "Xl6pFWqEXMaf"
   },
   "source": [
    "**[5]Handling Missing Values**"
   ]
  },
  {
   "cell_type": "code",
   "execution_count": null,
   "metadata": {
    "id": "ZW5U0hybTt0Z"
   },
   "outputs": [],
   "source": [
    "df.isna().any()"
   ]
  },
  {
   "cell_type": "code",
   "execution_count": null,
   "metadata": {
    "id": "sGJZKPdiXTTp"
   },
   "outputs": [],
   "source": [
    "df.isnull().sum()"
   ]
  },
  {
   "cell_type": "code",
   "execution_count": null,
   "metadata": {
    "id": "X_AtnkLHXY38"
   },
   "outputs": [],
   "source": [
    "df.isnull()"
   ]
  },
  {
   "cell_type": "code",
   "execution_count": null,
   "metadata": {
    "id": "2N-IqQ2oaRWn"
   },
   "outputs": [],
   "source": [
    "df.notnull()"
   ]
  },
  {
   "cell_type": "markdown",
   "metadata": {
    "id": "_fdtty7ebAsf"
   },
   "source": [
    "**[6]Find the outliers and replace the outliers**"
   ]
  },
  {
   "cell_type": "code",
   "execution_count": null,
   "metadata": {
    "id": "NIHZw0yqajUz"
   },
   "outputs": [],
   "source": [
    "sns.boxplot(x=df['Age'])"
   ]
  },
  {
   "cell_type": "code",
   "execution_count": null,
   "metadata": {
    "id": "5lK05IqBbJrU"
   },
   "outputs": [],
   "source": [
    "sns.boxplot(x=df['Tenure'])"
   ]
  },
  {
   "cell_type": "markdown",
   "metadata": {
    "id": "RVcZohf1bWOa"
   },
   "source": [
    "**[7]Check for Categorical columns and perform encoding.**"
   ]
  },
  {
   "cell_type": "code",
   "execution_count": null,
   "metadata": {
    "id": "saUqLPoubPTF"
   },
   "outputs": [],
   "source": [
    "a=df.columns"
   ]
  },
  {
   "cell_type": "code",
   "execution_count": null,
   "metadata": {
    "id": "JeemhPtXbgR6"
   },
   "outputs": [],
   "source": [
    "b=df._get_numeric_data().columns"
   ]
  },
  {
   "cell_type": "code",
   "execution_count": null,
   "metadata": {
    "id": "nkD061ofbiLZ"
   },
   "outputs": [],
   "source": [
    "b"
   ]
  },
  {
   "cell_type": "code",
   "execution_count": null,
   "metadata": {
    "id": "Gn5GZ_TycK-k"
   },
   "outputs": [],
   "source": [
    "list(set(a) - set(b))"
   ]
  },
  {
   "cell_type": "markdown",
   "metadata": {
    "id": "16Ut-rRZcXyu"
   },
   "source": [
    "**[8] Split the data into dependent and independent variables.**"
   ]
  },
  {
   "cell_type": "code",
   "execution_count": null,
   "metadata": {
    "id": "FjmO8zZlca4M"
   },
   "outputs": [],
   "source": [
    "# x  -Independent\n",
    "# y  -Dependent\n",
    "x =df.drop('Exited',axis=1)\n",
    "y=df['Exited']"
   ]
  },
  {
   "cell_type": "code",
   "execution_count": null,
   "metadata": {
    "id": "0uLhOAOecgh5"
   },
   "outputs": [],
   "source": [
    "x.head()"
   ]
  },
  {
   "cell_type": "code",
   "execution_count": null,
   "metadata": {
    "id": "HtuZiP4meFgG"
   },
   "outputs": [],
   "source": [
    "y.head()"
   ]
  },
  {
   "cell_type": "markdown",
   "metadata": {
    "id": "zya1A8hJeWD2"
   },
   "source": [
    "**[9] Scale the independent variables**"
   ]
  },
  {
   "cell_type": "code",
   "execution_count": null,
   "metadata": {
    "id": "nwb2_LO_eLLp"
   },
   "outputs": [],
   "source": [
    "from sklearn import linear_model"
   ]
  },
  {
   "cell_type": "code",
   "execution_count": null,
   "metadata": {
    "id": "ZvP4hcXwelbU"
   },
   "outputs": [],
   "source": [
    "from sklearn.preprocessing import StandardScaler"
   ]
  },
  {
   "cell_type": "code",
   "execution_count": null,
   "metadata": {
    "id": "KNIWXlXGevg3"
   },
   "outputs": [],
   "source": [
    "scale = StandardScaler()"
   ]
  },
  {
   "cell_type": "code",
   "execution_count": null,
   "metadata": {
    "id": "O_Ol2x7Oe0hC"
   },
   "outputs": [],
   "source": [
    "x=df[['Age','Tenure']]"
   ]
  },
  {
   "cell_type": "code",
   "execution_count": null,
   "metadata": {
    "id": "Fwcka0qJe7II"
   },
   "outputs": [],
   "source": [
    "scaledx = scale.fit_transform(x)"
   ]
  },
  {
   "cell_type": "code",
   "execution_count": null,
   "metadata": {
    "id": "TVZhW6ULe-re"
   },
   "outputs": [],
   "source": [
    "print(scaledx)"
   ]
  },
  {
   "cell_type": "markdown",
   "metadata": {
    "id": "_jhdTBp4fSgc"
   },
   "source": [
    "**[10] Split the data into training and testing**"
   ]
  },
  {
   "cell_type": "code",
   "execution_count": null,
   "metadata": {
    "id": "WNzymXTZfVLx"
   },
   "outputs": [],
   "source": [
    "from sklearn.model_selection import train_test_split"
   ]
  },
  {
   "cell_type": "code",
   "execution_count": null,
   "metadata": {
    "id": "_FN5MSKPfbg0"
   },
   "outputs": [],
   "source": [
    "x_train,x_test,y_train,y_test = train_test_split(x,y,test_size=0.2,random_state=0)"
   ]
  },
  {
   "cell_type": "code",
   "execution_count": null,
   "metadata": {
    "id": "oruAWJJcffEK"
   },
   "outputs": [],
   "source": [
    "print('X Train shape:{},Y.Train SHape:{}'.format(x_train.shape,y_train.shape))"
   ]
  },
  {
   "cell_type": "code",
   "execution_count": null,
   "metadata": {
    "id": "Vu5X-i2bfkll"
   },
   "outputs": [],
   "source": [
    "print('X Test Shape :{},Y Test SHape:{}'.format(x_test.shape,y_test.shape))"
   ]
  }
 ],
 "metadata": {
  "colab": {
   "authorship_tag": "ABX9TyMj88wyhQxN3oZoUo0R1WDr",
   "collapsed_sections": [],
   "private_outputs": true,
   "provenance": [
    {
     "file_id": "1MEGzhjSiHJOYyuQkALnrthikCkx6F5G0",
     "timestamp": 1663677427248
    }
   ]
  },
  "kernelspec": {
   "display_name": "Python 3 (ipykernel)",
   "language": "python",
   "name": "python3"
  },
  "language_info": {
   "codemirror_mode": {
    "name": "ipython",
    "version": 3
   },
   "file_extension": ".py",
   "mimetype": "text/x-python",
   "name": "python",
   "nbconvert_exporter": "python",
   "pygments_lexer": "ipython3",
   "version": "3.9.12"
  }
 },
 "nbformat": 4,
 "nbformat_minor": 1
}
